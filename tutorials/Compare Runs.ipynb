{
 "cells": [
  {
   "cell_type": "markdown",
   "metadata": {},
   "source": [
    "##This is an example of comparing maf run results##\n",
    "\n",
    "This notebook provides a demonstration of using MAF to compare the summary statistics coming from multiple runs. These summary statistics are visible using 'showMaf' for a single run (for example, see the results from [enigma_1189](http://tusken.astro.washington.edu:8080/summaryStats?runId=2)), but we are starting to develop tools to compare these summary statistics from multiple runs. \n",
    "\n",
    "Requirements:\n",
    "To run this notebook, you need sims_maf version >= 1.1. \n",
    "You will also need some resultsDB_sqlite.db (maf results sqlite databases) files to query. An example set (as expected in this notebook) is available for [download](http://www.astro.washington.edu/users/lynnej/opsim/results_example.tar.gz). "
   ]
  },
  {
   "cell_type": "code",
   "execution_count": 1,
   "metadata": {
    "collapsed": true
   },
   "outputs": [],
   "source": [
    "# import the modules needed.\n",
    "import os\n",
    "from lsst.sims.maf.db import ResultsDb"
   ]
  },
  {
   "cell_type": "markdown",
   "metadata": {},
   "source": [
    "Modify the next cell as needed to specify the location of your results database files. If you downloaded the [example set](http://www.astro.washington.edu/users/lynnej/opsim/results_example.tar.gz), set 'rootDir' below to the directory you wish to work with, and untar the 'results_example.tar.gz' file into that directory. \n",
    "\n",
    "Note that the connection to ResultsDB assumes the standard name for the resultsDB file (e.g. \"resultsDb_sqlite.db\"). If you modify these filenames, you should also modify the database name below. An example is given in the last line."
   ]
  },
  {
   "cell_type": "code",
   "execution_count": 2,
   "metadata": {
    "collapsed": false
   },
   "outputs": [],
   "source": [
    "rundb = {}\n",
    "rundb['enigma_1189'] = ResultsDb(database='enigma_1189_results.db')\n",
    "rundb['ops1_1160'] = ResultsDb(database='ops1_1160_results.db')"
   ]
  },
  {
   "cell_type": "markdown",
   "metadata": {},
   "source": [
    "Now a simple example of getting the results of a summary statistic from the database. \n",
    "\n",
    "You retrieve a summary statistic by specifying at least the 'metricName' (this is the same name shown by showMaf in the 'metricName' column). You can also optionally specify the metricMetadata (metadata) associated with a particular metric, as well as the slicer Name. \n",
    "\n",
    "You can retrieve a specific summary statistic for a given metric/metadata/slicer combination by specifying the summaryName as well. "
   ]
  },
  {
   "cell_type": "code",
   "execution_count": 3,
   "metadata": {
    "collapsed": false
   },
   "outputs": [
    {
     "name": "stdout",
     "output_type": "stream",
     "text": [
      "ops1_1160 TotalNVisits UniSlicer All Visits Count 2551323.0\n",
      "enigma_1189 TotalNVisits UniSlicer All Visits Count 2469307.0\n"
     ]
    }
   ],
   "source": [
    "# Retrieve a summary statistic using the metricName only. \n",
    "\n",
    "metricName = 'TotalNVisits'\n",
    "\n",
    "for r in rundb:\n",
    "    mIds = rundb[r].getMetricId(metricName=metricName)\n",
    "    if len(mIds) == 0:\n",
    "        print 'Could not find metric data information for %s in %s' %(metricName, r)\n",
    "    summaryStats = rundb[r].getSummaryStats(mIds)\n",
    "    for s in summaryStats:\n",
    "        print r, s['metricName'], s['slicerName'], s['metricMetadata'], s['summaryName'], s['summaryValue']"
   ]
  },
  {
   "cell_type": "code",
   "execution_count": 4,
   "metadata": {
    "collapsed": false
   },
   "outputs": [
    {
     "name": "stdout",
     "output_type": "stream",
     "text": [
      "ops1_1160 NVisits Per Proposal UniSlicer WFD Fraction of total 0.796027394415\n",
      "ops1_1160 NVisits Per Proposal UniSlicer WFD Count 2030923.0\n",
      "enigma_1189 NVisits Per Proposal UniSlicer WFD Fraction of total 0.85444985172\n",
      "enigma_1189 NVisits Per Proposal UniSlicer WFD Count 2109899.0\n"
     ]
    }
   ],
   "source": [
    "# Retrieve all summary statistics for a metric + set of metric metadata + for a particular slicer.\n",
    "metricName = 'NVisits Per Proposal'\n",
    "metricMetadata = 'WFD'\n",
    "slicerName = 'UniSlicer'\n",
    "\n",
    "for r in rundb:\n",
    "    mIds = rundb[r].getMetricId(metricName=metricName, metricMetadata=metricMetadata, slicerName=slicerName)\n",
    "    summaryStats = rundb[r].getSummaryStats(mIds)\n",
    "    for s in summaryStats:\n",
    "        print r, s['metricName'], s['slicerName'], s['metricMetadata'], s['summaryName'], s['summaryValue']"
   ]
  },
  {
   "cell_type": "code",
   "execution_count": 5,
   "metadata": {
    "collapsed": false
   },
   "outputs": [
    {
     "name": "stdout",
     "output_type": "stream",
     "text": [
      "ops1_1160 CoaddM5 OpsimFieldSlicer g band, WFD Median 27.2115653467\n",
      "enigma_1189 CoaddM5 OpsimFieldSlicer g band, WFD Median 27.2563124772\n"
     ]
    }
   ],
   "source": [
    "# Retrieve a specific summary statistic (the summary statistic 'median'), for a specific set of metric metadata.\n",
    "\n",
    "# Want median fivesigma depth for WFD in ugrizy\n",
    "metricName = 'CoaddM5'\n",
    "summaryName = 'Median'\n",
    "metricMetadata = 'g band, WFD'\n",
    "\n",
    "for r in rundb:\n",
    "    mIds = rundb[r].getMetricId(metricName=metricName, metricMetadata=metricMetadata)\n",
    "    summaryStats = rundb[r].getSummaryStats(mIds, summaryName=summaryName)\n",
    "    for s in summaryStats:\n",
    "        print r, s['metricName'], s['slicerName'], s['metricMetadata'], s['summaryName'], s['summaryValue']"
   ]
  },
  {
   "cell_type": "code",
   "execution_count": null,
   "metadata": {
    "collapsed": true
   },
   "outputs": [],
   "source": []
  }
 ],
 "metadata": {
  "kernelspec": {
   "display_name": "Python 2",
   "language": "python",
   "name": "python2"
  },
  "language_info": {
   "codemirror_mode": {
    "name": "ipython",
    "version": 2
   },
   "file_extension": ".py",
   "mimetype": "text/x-python",
   "name": "python",
   "nbconvert_exporter": "python",
   "pygments_lexer": "ipython2",
   "version": "2.7.10"
  }
 },
 "nbformat": 4,
 "nbformat_minor": 0
}
